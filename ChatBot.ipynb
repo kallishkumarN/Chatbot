{
  "nbformat": 4,
  "nbformat_minor": 0,
  "metadata": {
    "colab": {
      "name": "ChatBot.ipynb",
      "provenance": [],
      "collapsed_sections": []
    },
    "kernelspec": {
      "display_name": "Python 3",
      "language": "python",
      "name": "python3"
    },
    "language_info": {
      "codemirror_mode": {
        "name": "ipython",
        "version": 3
      },
      "file_extension": ".py",
      "mimetype": "text/x-python",
      "name": "python",
      "nbconvert_exporter": "python",
      "pygments_lexer": "ipython3",
      "version": "3.7.4"
    }
  },
  "cells": [
    {
      "cell_type": "code",
      "metadata": {
        "colab_type": "code",
        "id": "HvXCP9KD0wTg",
        "outputId": "0c81ece2-8c5b-4f21-e97f-bfa118dc3615",
        "colab": {
          "base_uri": "https://localhost:8080/",
          "height": 51
        }
      },
      "source": [
        "import nltk\n",
        "nltk.download('punkt')\n",
        "from nltk.stem.lancaster import LancasterStemmer\n",
        "stemmer = LancasterStemmer()"
      ],
      "execution_count": 0,
      "outputs": [
        {
          "output_type": "stream",
          "text": [
            "[nltk_data] Error loading punkt: <urlopen error [Errno 11001]\n",
            "[nltk_data]     getaddrinfo failed>\n"
          ],
          "name": "stderr"
        }
      ]
    },
    {
      "cell_type": "code",
      "metadata": {
        "id": "o3gEEr3MwoYQ",
        "colab_type": "code",
        "colab": {},
        "outputId": "7846fde1-4035-471d-a689-58659bebfdc4"
      },
      "source": [
        "pip install tflearn"
      ],
      "execution_count": 0,
      "outputs": [
        {
          "output_type": "stream",
          "text": [
            "Requirement already satisfied: tflearn in c:\\users\\manigandan\\anaconda3\\lib\\site-packages (0.3.2)\n",
            "Requirement already satisfied: Pillow in c:\\users\\manigandan\\anaconda3\\lib\\site-packages (from tflearn) (6.2.0)\n",
            "Requirement already satisfied: numpy in c:\\users\\manigandan\\anaconda3\\lib\\site-packages (from tflearn) (1.16.5)\n",
            "Requirement already satisfied: six in c:\\users\\manigandan\\anaconda3\\lib\\site-packages (from tflearn) (1.12.0)\n",
            "Note: you may need to restart the kernel to use updated packages.\n"
          ],
          "name": "stdout"
        }
      ]
    },
    {
      "cell_type": "code",
      "metadata": {
        "colab_type": "code",
        "id": "MMTyTkvN07rQ",
        "colab": {}
      },
      "source": [
        "import tensorflow as tf\n",
        "import numpy as np\n",
        "import tflearn\n",
        "import random\n",
        "import json"
      ],
      "execution_count": 0,
      "outputs": []
    },
    {
      "cell_type": "code",
      "metadata": {
        "colab_type": "code",
        "id": "6MVigLP71jLR",
        "colab": {}
      },
      "source": [
        "# import our chat-bot intents file\n",
        "with open('intents.json') as json_data:\n",
        "    intents = json.load(json_data)"
      ],
      "execution_count": 0,
      "outputs": []
    },
    {
      "cell_type": "code",
      "metadata": {
        "colab_type": "code",
        "id": "8z-O-jM-1pBg",
        "outputId": "ce7f6da8-33c2-4b72-f455-6a3fc12a5e05",
        "colab": {
          "base_uri": "https://localhost:8080/",
          "height": 392
        }
      },
      "source": [
        "intents"
      ],
      "execution_count": 0,
      "outputs": [
        {
          "output_type": "execute_result",
          "data": {
            "text/plain": [
              "{'intents': [{'tag': 'greeting',\n",
              "   'patterns': ['hi', 'How are you', 'Hello', 'Hey', 'Hai'],\n",
              "   'responses': ['Hi,How are you?',\n",
              "    'Hey, How are you?',\n",
              "    'Hello, How are you?'],\n",
              "   'context_set': ''},\n",
              "  {'tag': 'goodbye',\n",
              "   'patterns': ['Bye', 'see you later', 'good bye'],\n",
              "   'responses': ['BYE', 'see you later', 'Take Care']},\n",
              "  {'tag': 'thanks',\n",
              "   'patterns': ['thankyou', 'thanks', 'thats helpful'],\n",
              "   'responses': ['Youre Welcome', 'My pleasure', 'Thanks']},\n",
              "  {'tag': 'positive_health',\n",
              "   'patterns': ['feeling great', 'better', 'good', 'fine'],\n",
              "   'responses': ['Okay', 'Im your Quarantine Support']},\n",
              "  {'tag': 'negative_health',\n",
              "   'patterns': ['Feeling bad',\n",
              "    'uncomfortable',\n",
              "    'uneasy',\n",
              "    'feverish',\n",
              "    'tired',\n",
              "    'dull',\n",
              "    'dizzy'],\n",
              "   'responses': [\"Don't Worry! I will take care of you\",\n",
              "    \"I'm here to entertain you\",\n",
              "    \"Don't worry, you will be alright\"]},\n",
              "  {'tag': 'bored',\n",
              "   'patterns': ['im bored', 'bored', 'bore', 'im feeling bored'],\n",
              "   'responses': ['Tell me what you are interested in?',\n",
              "    'Feel free to talk to me',\n",
              "    'you need jokes or riddle from me?']},\n",
              "  {'tag': 'jokes',\n",
              "   'patterns': ['Tell me joke', 'joke', 'comedy', 'funny'],\n",
              "   'responses': ['Why did the physics teacher broke up with biology teacher? Becaouse there was no chemistry',\n",
              "    'What type shoes does frog wear? Open Toad',\n",
              "    'Need cheering up? Start a fight with somebody when they have the hiccoughs!',\n",
              "    'It has four legs and it can fly, what is it? Two birds.',\n",
              "    'What do you get when you put a vest on an alligator? An Invsetigator',\n",
              "    'Why was the cheetah bad in hide and seek? It is always spotted!!',\n",
              "    \"Why don't shrimp share its shell? Because it is shellfish(Selfish)\",\n",
              "    ' Is this pool safe for diving? It deep ends(depends)',\n",
              "    'How many apples grow on a tree? All of them.']},\n",
              "  {'tag': 'riddle',\n",
              "   'patterns': ['Tell me riddle', 'riddle', 'word game', 'tell some riddle'],\n",
              "   'responses': ['What has a neck but no head? A bottle',\n",
              "    'What goes up but never comes down? Your age',\n",
              "    \"What has lot of keys, but can't open a door? A piano\",\n",
              "    'What is harder to catch the faster you run? Your Breathe',\n",
              "    'What room do ghosts avoid? The Living Room',\n",
              "    'What is more useful when it is broken? An Egg',\n",
              "    'How do you spell candy in 2 letters?c and y c(and)y.',\n",
              "    'What runs around the whole yard without moving?A Fence',\n",
              "    'What goes up when the rain comes down?An Umbrella',\n",
              "    'What did the baseball glove say to the ball?Catch you later',\n",
              "    'What can you catch but never throw?A cold',\n",
              "    \"How can you make seven even? Remove the letter 'S'.\",\n",
              "    'What did the bee say to the flower? Hello, honey!',\n",
              "    'Can February March? A. No, but April May',\n",
              "    'When will water stop running down hill? When it reaches the bottom.']}]}"
            ]
          },
          "metadata": {
            "tags": []
          },
          "execution_count": 123
        }
      ]
    },
    {
      "cell_type": "code",
      "metadata": {
        "colab_type": "code",
        "id": "OcKfGMun1vUf",
        "colab": {}
      },
      "source": [
        "words = []\n",
        "classes = []\n",
        "documents = []\n",
        "ignore = ['?']\n",
        "# loop through each sentence in the intent's patterns\n",
        "for intent in intents['intents']:\n",
        "    for pattern in intent['patterns']:\n",
        "        # tokenize each and every word in the sentence\n",
        "        w = nltk.word_tokenize(pattern)\n",
        "        # add word to the words list\n",
        "        words.extend(w)\n",
        "        # add word(s) to documents\n",
        "        documents.append((w, intent['tag']))\n",
        "        # add tags to our classes list\n",
        "        if intent['tag'] not in classes:\n",
        "            classes.append(intent['tag'])"
      ],
      "execution_count": 0,
      "outputs": []
    },
    {
      "cell_type": "code",
      "metadata": {
        "colab_type": "code",
        "id": "9E6FCl1L100I",
        "outputId": "77d732dc-7d89-45dc-a8ef-d96ab85c25fb",
        "colab": {
          "base_uri": "https://localhost:8080/",
          "height": 68
        }
      },
      "source": [
        "# Perform stemming and lower each word as well as remove duplicates\n",
        "words = [stemmer.stem(w.lower()) for w in words if w not in ignore]\n",
        "words = sorted(list(set(words)))\n",
        "\n",
        "# remove duplicate classes\n",
        "classes = sorted(list(set(classes)))\n",
        "\n",
        "print (len(documents), \"documents\")\n",
        "print (len(classes), \"classes\", classes)\n",
        "print (len(words), \"unique stemmed words\", words)"
      ],
      "execution_count": 0,
      "outputs": [
        {
          "output_type": "stream",
          "text": [
            "34 documents\n",
            "8 classes ['bored', 'goodbye', 'greeting', 'jokes', 'negative_health', 'positive_health', 'riddle', 'thanks']\n",
            "37 unique stemmed words ['ar', 'bad', 'bet', 'bor', 'bye', 'comedy', 'dizzy', 'dul', 'feel', 'fev', 'fin', 'funny', 'gam', 'good', 'gre', 'hai', 'hello', 'help', 'hey', 'hi', 'how', 'im', 'jok', 'lat', 'me', 'riddl', 'see', 'som', 'tel', 'thank', 'thankyou', 'that', 'tir', 'uncomfort', 'uneasy', 'word', 'you']\n"
          ],
          "name": "stdout"
        }
      ]
    },
    {
      "cell_type": "code",
      "metadata": {
        "colab_type": "code",
        "id": "LBZJgL-a17Wq",
        "colab": {}
      },
      "source": [
        "# create training data\n",
        "training = []\n",
        "output = []\n",
        "# create an empty array for output\n",
        "output_empty = [0] * len(classes)\n",
        "\n",
        "# create training set, bag of words for each sentence\n",
        "for doc in documents:\n",
        "    # initialize bag of words\n",
        "    bag = []\n",
        "    # list of tokenized words for the pattern\n",
        "    pattern_words = doc[0]\n",
        "    # stemming each word\n",
        "    pattern_words = [stemmer.stem(word.lower()) for word in pattern_words]\n",
        "    # create bag of words array\n",
        "    for w in words:\n",
        "        bag.append(1) if w in pattern_words else bag.append(0)\n",
        "\n",
        "    # output is '1' for current tag and '0' for rest of other tags\n",
        "    output_row = list(output_empty)\n",
        "    output_row[classes.index(doc[1])] = 1\n",
        "\n",
        "    training.append([bag, output_row])\n",
        "\n",
        "# shuffling features and turning it into np.array\n",
        "random.shuffle(training)\n",
        "training = np.array(training)\n",
        "\n",
        "# creating training lists\n",
        "train_x = list(training[:,0])\n",
        "train_y = list(training[:,1])"
      ],
      "execution_count": 0,
      "outputs": []
    },
    {
      "cell_type": "code",
      "metadata": {
        "colab_type": "code",
        "id": "IwwS3gOW1_Yp",
        "outputId": "84288dba-61ee-4f1d-fe8a-c32b476483a6",
        "colab": {
          "base_uri": "https://localhost:8080/",
          "height": 119
        }
      },
      "source": [
        "# resetting underlying graph data\n",
        "tf.reset_default_graph()\n",
        "\n",
        "# Building neural network\n",
        "net = tflearn.input_data(shape=[None, len(train_x[0])])\n",
        "net = tflearn.fully_connected(net, 10)\n",
        "net = tflearn.fully_connected(net, 10)\n",
        "net = tflearn.fully_connected(net, len(train_y[0]), activation='softmax')\n",
        "net = tflearn.regression(net)\n",
        "\n",
        "# Defining model and setting up tensorboard\n",
        "model = tflearn.DNN(net, tensorboard_dir='tflearn_logs')\n",
        "\n",
        "# Start training\n",
        "model.fit(train_x, train_y, n_epoch=1000, batch_size=8, show_metric=True)\n",
        "model.save('model.tflearn')"
      ],
      "execution_count": 0,
      "outputs": [
        {
          "output_type": "stream",
          "text": [
            "Training Step: 4999  | total loss: \u001b[1m\u001b[32m0.22790\u001b[0m\u001b[0m | time: 0.017s\n",
            "| Adam | epoch: 1000 | loss: 0.22790 - acc: 0.9877 -- iter: 32/34\n",
            "Training Step: 5000  | total loss: \u001b[1m\u001b[32m0.21111\u001b[0m\u001b[0m | time: 0.020s\n",
            "| Adam | epoch: 1000 | loss: 0.21111 - acc: 0.9889 -- iter: 34/34\n",
            "--\n",
            "INFO:tensorflow:C:\\Users\\manigandan\\model.tflearn is not in all_model_checkpoint_paths. Manually adding it.\n"
          ],
          "name": "stdout"
        }
      ]
    },
    {
      "cell_type": "code",
      "metadata": {
        "colab_type": "code",
        "id": "OFnWOMn02X8n",
        "colab": {}
      },
      "source": [
        "import pickle\n",
        "pickle.dump( {'words':words, 'classes':classes, 'train_x':train_x, 'train_y':train_y}, open( \"training_data\", \"wb\" ) )"
      ],
      "execution_count": 0,
      "outputs": []
    },
    {
      "cell_type": "code",
      "metadata": {
        "colab_type": "code",
        "id": "P6sVH83a2eol",
        "colab": {}
      },
      "source": [
        "# restoring all the data structures\n",
        "data = pickle.load( open( \"training_data\", \"rb\" ) )\n",
        "words = data['words']\n",
        "classes = data['classes']\n",
        "train_x = data['train_x']\n",
        "train_y = data['train_y']"
      ],
      "execution_count": 0,
      "outputs": []
    },
    {
      "cell_type": "code",
      "metadata": {
        "colab_type": "code",
        "id": "TZM7B3QY2jCC",
        "colab": {}
      },
      "source": [
        "with open(r'C:\\Users\\manigandan\\Desktop\\hackathon rit\\intents.json') as json_data:\n",
        "    intents = json.load(json_data)"
      ],
      "execution_count": 0,
      "outputs": []
    },
    {
      "cell_type": "code",
      "metadata": {
        "colab_type": "code",
        "id": "CT0fwaMS2msB",
        "outputId": "a5f0a4e4-e2eb-4d65-d0a5-b6c2254bed74",
        "colab": {
          "base_uri": "https://localhost:8080/",
          "height": 34
        }
      },
      "source": [
        "\n",
        "\n",
        "# load the saved model\n",
        "model.load('./model.tflearn')\n",
        "\n"
      ],
      "execution_count": 0,
      "outputs": [
        {
          "output_type": "stream",
          "text": [
            "INFO:tensorflow:Restoring parameters from C:\\Users\\manigandan\\model.tflearn\n"
          ],
          "name": "stdout"
        }
      ]
    },
    {
      "cell_type": "code",
      "metadata": {
        "colab_type": "code",
        "id": "j_HeO-1p2sSn",
        "colab": {}
      },
      "source": [
        "def clean_up_sentence(sentence):\n",
        "    # tokenizing the pattern\n",
        "    sentence_words = nltk.word_tokenize(sentence)\n",
        "    # stemming each word\n",
        "    sentence_words = [stemmer.stem(word.lower()) for word in sentence_words]\n",
        "    return sentence_words\n",
        "\n",
        "# returning bag of words array: 0 or 1 for each word in the bag that exists in the sentence\n",
        "def bow(sentence, words, show_details=False):\n",
        "    # tokenizing the pattern\n",
        "    sentence_words = clean_up_sentence(sentence)\n",
        "    # generating bag of words\n",
        "    bag = [0]*len(words)  \n",
        "    for s in sentence_words:\n",
        "        for i,w in enumerate(words):\n",
        "            if w == s: \n",
        "                bag[i] = 1\n",
        "                if show_details:\n",
        "                    print (\"found in bag: %s\" % w)\n",
        "\n",
        "    return(np.array(bag))"
      ],
      "execution_count": 0,
      "outputs": []
    },
    {
      "cell_type": "code",
      "metadata": {
        "colab_type": "code",
        "id": "TeNqQXUT2zM6",
        "colab": {}
      },
      "source": [
        "\n",
        "ERROR_THRESHOLD = 0.30\n",
        "def classify(sentence):\n",
        "    # generate probabilities from the model\n",
        "    results = model.predict([bow(sentence, words)])[0]\n",
        "    # filter out predictions below a threshold\n",
        "    results = [[i,r] for i,r in enumerate(results) if r>ERROR_THRESHOLD]\n",
        "    # sort by strength of probability\n",
        "    results.sort(key=lambda x: x[1], reverse=True)\n",
        "    return_list = []\n",
        "    for r in results:\n",
        "        return_list.append((classes[r[0]], r[1]))\n",
        "    # return tuple of intent and probability\n",
        "    return return_list\n",
        "\n",
        "def response(sentence, userID='123', show_details=False):\n",
        "    results = classify(sentence)\n",
        "    # if we have a classification then find the matching intent tag\n",
        "    if results:\n",
        "        # loop as long as there are matches to process\n",
        "        while results:\n",
        "            for i in intents['intents']:\n",
        "                # find a tag matching the first result\n",
        "                if i['tag'] == results[0][0]:\n",
        "                    # a random response from the intent\n",
        "                    return random.choice(i['responses'])\n",
        "\n",
        "            results.pop(0)"
      ],
      "execution_count": 0,
      "outputs": []
    },
    {
      "cell_type": "code",
      "metadata": {
        "id": "shXprZxywojL",
        "colab_type": "code",
        "colab": {}
      },
      "source": [
        "import random\n",
        "import tkinter\n",
        "from tkinter import *\n",
        "def rock_paper_scissor():\n",
        "    #Creating GUI with tkinter\n",
        "   \n",
        "    def play():\n",
        "        user_choice = EntryBox.get(\"1.0\",'end-1c').strip()\n",
        "        EntryBox.delete(\"0.0\",END)\n",
        "        if user_choice != '':\n",
        "            ChatLog.config(state=NORMAL)\n",
        "            ChatLog.insert(END, \"You: \" +user_choice + '\\n\\n')\n",
        "            ChatLog.config(foreground=\"#442265\", font=(\"Verdana\", 12 ))\n",
        "            select = ['rock','paper','scissor']\n",
        "            bot_choice = random.choice(select)\n",
        "            ChatLog.insert(END, \"Bot: \" +bot_choice + '\\n\\n')\n",
        "            if(user_choice.lower()=='rock' and bot_choice.lower()=='rock'):\n",
        "                ChatLog.insert(END, \"MATCH DRAWS \\n \\n\")\n",
        "                ChatLog.insert(END, \"-------------------------------------- \\n \\n\")\n",
        "            if(user_choice.lower()=='rock' and bot_choice.lower()=='paper'):\n",
        "                ChatLog.insert(END, \"BOT WINS \\n \\n\")\n",
        "                ChatLog.insert(END, \"-------------------------------------- \\n \\n\")\n",
        "            if(user_choice.lower()=='rock' and bot_choice.lower()=='scissor'):\n",
        "                ChatLog.insert(END, \"YOU WINS \\n \\n\")\n",
        "                ChatLog.insert(END, \"-------------------------------------- \\n \\n\")\n",
        "            if(user_choice.lower()=='paper' and bot_choice.lower()=='rock'):\n",
        "                ChatLog.insert(END, \"YOU WINS \\n \\n\")\n",
        "                ChatLog.insert(END, \"-------------------------------------- \\n \\n\")\n",
        "            if(user_choice.lower()=='paper' and bot_choice.lower()=='paper'):\n",
        "                ChatLog.insert(END, \"MATCH DRAWS \\n \\n\")\n",
        "                ChatLog.insert(END, \"-------------------------------------- \\n \\n\")\n",
        "            if(user_choice.lower()=='paper' and bot_choice.lower()=='scissor'):\n",
        "                ChatLog.insert(END, \"BOT WINS \\n \\n\")\n",
        "                ChatLog.insert(END, \"-------------------------------------- \\n \\n\")\n",
        "            if(user_choice.lower()=='scissor' and bot_choice.lower()=='rock'):\n",
        "                ChatLog.insert(END, \"BOT WINS \\n \\n\")\n",
        "                ChatLog.insert(END, \"-------------------------------------- \\n \\n\")\n",
        "            if(user_choice.lower()=='scissor' and bot_choice.lower()=='paper'):\n",
        "                ChatLog.insert(END, \"YOU WINS \\n \\n\")\n",
        "                ChatLog.insert(END, \"-------------------------------------- \\n \\n\")    \n",
        "            if(user_choice.lower()=='scissor' and bot_choice.lower()=='scissor'):\n",
        "                ChatLog.insert(END, \"MATCH DRAWS \\n \\n\")\n",
        "                ChatLog.insert(END, \"-------------------------------------- \\n \\n\")\n",
        "            ChatLog.insert(END, \"BOT: choose any one \\n 1.ROCK \\n 2. PAPER \\n 3.SCISSOR \\n \")\n",
        "            ChatLog.config(state=DISABLED)\n",
        "            ChatLog.yview(END)\n",
        "\n",
        "\n",
        "\n",
        "    base = Tk()\n",
        "    base.title(\"GAME\")\n",
        "    base.geometry(\"400x500\")\n",
        "    base.resizable(width=FALSE, height=FALSE)\n",
        "\n",
        "    #Create Chat window\n",
        "    ChatLog = Text(base, bd=0, bg=\"#FFCCCC\", height=\"8\", width=\"50\", font=\"Arial\",)\n",
        "    ChatLog.insert(END, \"BOT: choose any one \\n 1.ROCK \\n 2. PAPER \\n 3.SCISSOR \\n \"  )\n",
        "    ChatLog.config(state=DISABLED)\n",
        "    #Bind scrollbar to Chat window\n",
        "    scrollbar = Scrollbar(base, command=ChatLog.yview, cursor=\"heart\")\n",
        "    ChatLog['yscrollcommand'] = scrollbar.set\n",
        "    #Create Button to send message\n",
        "    SendButton = Button(base, font=(\"Verdana\",12,'bold'), text=\"Send\", width=\"12\", height=5,\n",
        "                    bd=0, bg=\"#32de97\", activebackground=\"#3c9d9b\",fg='#ffffff',\n",
        "                    command= play)\n",
        "    #Create the box to enter message\n",
        "    EntryBox = Text(base, bd=0, bg=\"white\",width=\"29\", height=\"5\", font=\"Arial\")\n",
        "    #EntryBox.bind(\"<Return>\", send)\n",
        "    #Place all components on the screen\n",
        "    scrollbar.place(x=376,y=6, height=386)\n",
        "    ChatLog.place(x=6,y=6, height=386, width=370)\n",
        "    EntryBox.place(x=128, y=401, height=90, width=265)\n",
        "    SendButton.place(x=6, y=401, height=90)\n",
        "    base.mainloop()"
      ],
      "execution_count": 0,
      "outputs": []
    },
    {
      "cell_type": "code",
      "metadata": {
        "id": "nz0dXdyKwokH",
        "colab_type": "code",
        "colab": {}
      },
      "source": [
        "#Creating GUI with tkinter\n",
        "import tkinter\n",
        "from tkinter import *\n",
        "def send():\n",
        "    msg = EntryBox.get(\"1.0\",'end-1c').strip()\n",
        "    EntryBox.delete(\"0.0\",END)\n",
        "    if msg != '':\n",
        "        ChatLog.config(state=NORMAL)\n",
        "        ChatLog.insert(END, \"You: \" + msg + '\\n\\n')\n",
        "        ChatLog.config(foreground=\"#442265\", font=(\"Verdana\", 12 ))\n",
        "        res = response(msg)\n",
        "        ChatLog.insert(END, \"Bot: \" + res + '\\n\\n')\n",
        "        ChatLog.config(state=DISABLED)\n",
        "        ChatLog.yview(END)\n",
        "base = Tk()\n",
        "base.title(\"CHATBOT\")\n",
        "base.geometry(\"400x500\")\n",
        "\n",
        "base.resizable(width=FALSE, height=FALSE)\n",
        "#Create Chat window\n",
        "ChatLog = Text(base, bd=0, bg=\"#CCFFFF\", height=\"8\", width=\"50\", font=\"Arial\",)\n",
        "ChatLog.config(state=DISABLED)\n",
        "#Bind scrollbar to Chat window\n",
        "scrollbar = Scrollbar(base, command=ChatLog.yview, cursor=\"heart\")\n",
        "ChatLog['yscrollcommand'] = scrollbar.set\n",
        "#Create Button to send message\n",
        "sendButton = Button(base, font=(\"Verdana\",12,'bold'), text=\"send\", width=\"12\", height=5,\n",
        "                    bd=0, bg=\"#32de97\", activebackground=\"#3c9d9b\",fg='#ffffff',\n",
        "                    command= send )\n",
        "playButton = Button(base, font=(\"Verdana\",12,'bold'), text=\"PLAY\", width=\"6\", height=5,\n",
        "                    bd=0, bg=\"#32de97\", activebackground=\"#3c9d9b\",fg='#ffffff',\n",
        "                    command= rock_paper_scissor )\n",
        "#Create the box to enter message\n",
        "EntryBox = Text(base, bd=0, bg=\"white\",width=\"29\", height=\"5\", font=\"Arial\")\n",
        "#EntryBox.bind(\"<Return>\", send)\n",
        "#Place all components on the screen\n",
        "scrollbar.place(x=376,y=6, height=386)\n",
        "ChatLog.place(x=6,y=6, height=386, width=370)\n",
        "EntryBox.place(x=128, y=401, height=90, width=265)\n",
        "sendButton.place(x=6, y=401, height=90)\n",
        "playButton.place(x=300,y=10, height=40)\n",
        "base.mainloop()"
      ],
      "execution_count": 0,
      "outputs": []
    },
    {
      "cell_type": "code",
      "metadata": {
        "id": "JkrBV4R2wokU",
        "colab_type": "code",
        "colab": {},
        "outputId": "52a07a4e-1393-4c7f-c721-c1526d911dfe"
      },
      "source": [
        "#sentimental analysis\n",
        "import nltk.classify.util\n",
        "from nltk.classify import NaiveBayesClassifier\n",
        "from nltk.corpus import names\n",
        "\n",
        "def word_feats(words):\n",
        "    return dict([(word, True) for word in words])\n",
        " \n",
        "positive_vocab = [ 'awesome', 'outstanding', 'fantastic', 'terrific', 'good', 'nice', 'great', ':)' ]\n",
        "negative_vocab = [ 'bad', 'terrible','useless', 'hate', ':(','not' ]\n",
        "\n",
        "\n",
        "positive_features = [(word_feats(pos), 'pos') for pos in positive_vocab]\n",
        "negative_features = [(word_feats(neg), 'neg') for neg in negative_vocab]\n",
        "\n",
        "\n",
        "train_set = negative_features + positive_features \n",
        "\n",
        "classifier = NaiveBayesClassifier.train(train_set) \n",
        "\n",
        "# Predict\n",
        "neg = 0\n",
        "pos = 0\n",
        "sentence = input()\n",
        "sentence = sentence.lower()\n",
        "words = sentence.split(' ')\n",
        "for word in words:\n",
        "    classResult = classifier.classify( word_feats(word))\n",
        "    if classResult == 'neg':\n",
        "        neg = neg + 1\n",
        "    if classResult == 'pos':\n",
        "        pos = pos + 1\n",
        "\n",
        "print('Positive: ' + str(float(pos)/len(words)))\n",
        "print('Negative: ' + str(float(neg)/len(words)))\n"
      ],
      "execution_count": 0,
      "outputs": [
        {
          "output_type": "stream",
          "text": [
            "\n",
            "Positive: 1.0\n",
            "Negative: 0.0\n"
          ],
          "name": "stdout"
        }
      ]
    },
    {
      "cell_type": "code",
      "metadata": {
        "id": "6U3sA521woko",
        "colab_type": "code",
        "colab": {}
      },
      "source": [
        ""
      ],
      "execution_count": 0,
      "outputs": []
    }
  ]
}